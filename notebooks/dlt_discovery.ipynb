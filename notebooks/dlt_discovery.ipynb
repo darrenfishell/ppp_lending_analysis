{
 "cells": [
  {
   "cell_type": "code",
   "id": "initial_id",
   "metadata": {
    "collapsed": true,
    "ExecuteTime": {
     "end_time": "2025-07-15T18:50:26.517473Z",
     "start_time": "2025-07-15T18:50:25.957679Z"
    }
   },
   "source": [
    "import bs4\n",
    "import pandas as pd\n",
    "import requests\n",
    "import re\n",
    "\n",
    "from urllib.parse import urljoin"
   ],
   "outputs": [],
   "execution_count": 2
  },
  {
   "metadata": {},
   "cell_type": "markdown",
   "source": "## PPP source CSV discovery",
   "id": "b25a3b864da06264"
  },
  {
   "metadata": {
    "ExecuteTime": {
     "end_time": "2025-07-15T18:50:27.618663Z",
     "start_time": "2025-07-15T18:50:26.522086Z"
    }
   },
   "cell_type": "code",
   "source": [
    "ppp_base_url = 'https://data.sba.gov'\n",
    "ppp_data_url = urljoin(ppp_base_url, 'dataset/ppp-foia')\n",
    "\n",
    "page_content = requests.get(ppp_data_url).content\n",
    "\n",
    "soup = bs4.BeautifulSoup(page_content, 'html.parser')\n",
    "\n",
    "data_links = soup.find_all('a', attrs={'title': re.compile(r'\\.csv$')})\n",
    "\n",
    "csv_list = [{'url': urljoin(ppp_base_url, '/'.join([link.get('href'), 'download', link.get('title')])), 'filename': link.get('title')} for link in data_links]\n",
    "\n",
    "csv_list"
   ],
   "id": "84b34bfcb26ddf0a",
   "outputs": [
    {
     "data": {
      "text/plain": [
       "[{'url': 'https://data.sba.gov/dataset/ppp-foia/resource/c1275a03-c25c-488a-bd95-403c4b2fa036/download/public_150k_plus_240930.csv',\n",
       "  'filename': 'public_150k_plus_240930.csv'},\n",
       " {'url': 'https://data.sba.gov/dataset/ppp-foia/resource/cff06664-1f75-4969-ab3d-6fa7d6b4c41e/download/public_up_to_150k_1_240930.csv',\n",
       "  'filename': 'public_up_to_150k_1_240930.csv'},\n",
       " {'url': 'https://data.sba.gov/dataset/ppp-foia/resource/1e6b6629-a5aa-46e6-a442-6e67366d2362/download/public_up_to_150k_2_240930.csv',\n",
       "  'filename': 'public_up_to_150k_2_240930.csv'},\n",
       " {'url': 'https://data.sba.gov/dataset/ppp-foia/resource/644c304a-f5ad-4cfa-b128-fe2cbcb7b26e/download/public_up_to_150k_3_240930.csv',\n",
       "  'filename': 'public_up_to_150k_3_240930.csv'},\n",
       " {'url': 'https://data.sba.gov/dataset/ppp-foia/resource/98af633d-eb1b-4d4b-995d-330962e6c38d/download/public_up_to_150k_4_240930.csv',\n",
       "  'filename': 'public_up_to_150k_4_240930.csv'},\n",
       " {'url': 'https://data.sba.gov/dataset/ppp-foia/resource/3b407e04-f269-47a0-a5fe-661d1a08a76c/download/public_up_to_150k_5_240930.csv',\n",
       "  'filename': 'public_up_to_150k_5_240930.csv'},\n",
       " {'url': 'https://data.sba.gov/dataset/ppp-foia/resource/7b7b5b58-9645-4b88-a675-a8a825e77076/download/public_up_to_150k_6_240930.csv',\n",
       "  'filename': 'public_up_to_150k_6_240930.csv'},\n",
       " {'url': 'https://data.sba.gov/dataset/ppp-foia/resource/dabdddb5-1807-44f6-97c6-d624a5372525/download/public_up_to_150k_7_240930.csv',\n",
       "  'filename': 'public_up_to_150k_7_240930.csv'},\n",
       " {'url': 'https://data.sba.gov/dataset/ppp-foia/resource/1fc6ddc4-ccb0-49d4-b632-0749e3292e57/download/public_up_to_150k_8_240930.csv',\n",
       "  'filename': 'public_up_to_150k_8_240930.csv'},\n",
       " {'url': 'https://data.sba.gov/dataset/ppp-foia/resource/e9f2c718-b95e-47da-8f3e-17154aab1c86/download/public_up_to_150k_9_240930.csv',\n",
       "  'filename': 'public_up_to_150k_9_240930.csv'},\n",
       " {'url': 'https://data.sba.gov/dataset/ppp-foia/resource/d9972f0d-c377-46ac-8637-a5c1265377c8/download/public_up_to_150k_10_240930.csv',\n",
       "  'filename': 'public_up_to_150k_10_240930.csv'},\n",
       " {'url': 'https://data.sba.gov/dataset/ppp-foia/resource/8db19ddc-f036-40df-89f9-d0d309aa58b5/download/public_up_to_150k_11_240930.csv',\n",
       "  'filename': 'public_up_to_150k_11_240930.csv'},\n",
       " {'url': 'https://data.sba.gov/dataset/ppp-foia/resource/7e4f672f-d163-4735-a5ec-f23afa2835db/download/public_up_to_150k_12_240930.csv',\n",
       "  'filename': 'public_up_to_150k_12_240930.csv'}]"
      ]
     },
     "execution_count": 3,
     "metadata": {},
     "output_type": "execute_result"
    }
   ],
   "execution_count": 3
  },
  {
   "metadata": {
    "ExecuteTime": {
     "end_time": "2025-07-15T18:50:32.502801Z",
     "start_time": "2025-07-15T18:50:27.688774Z"
    }
   },
   "cell_type": "code",
   "source": [
    "import pandas as pd\n",
    "\n",
    "first_csv = csv_list[0].get('url')\n",
    "first_file = pd.read_csv(first_csv, encoding_errors='replace')\n",
    "first_file.columns"
   ],
   "id": "855563d1122eb430",
   "outputs": [
    {
     "ename": "KeyboardInterrupt",
     "evalue": "",
     "output_type": "error",
     "traceback": [
      "\u001B[31m---------------------------------------------------------------------------\u001B[39m",
      "\u001B[31mKeyboardInterrupt\u001B[39m                         Traceback (most recent call last)",
      "\u001B[36mCell\u001B[39m\u001B[36m \u001B[39m\u001B[32mIn[4]\u001B[39m\u001B[32m, line 4\u001B[39m\n\u001B[32m      1\u001B[39m \u001B[38;5;28;01mimport\u001B[39;00m\u001B[38;5;250m \u001B[39m\u001B[34;01mpandas\u001B[39;00m\u001B[38;5;250m \u001B[39m\u001B[38;5;28;01mas\u001B[39;00m\u001B[38;5;250m \u001B[39m\u001B[34;01mpd\u001B[39;00m\n\u001B[32m      3\u001B[39m first_csv = csv_list[\u001B[32m0\u001B[39m].get(\u001B[33m'\u001B[39m\u001B[33murl\u001B[39m\u001B[33m'\u001B[39m)\n\u001B[32m----> \u001B[39m\u001B[32m4\u001B[39m first_file = \u001B[43mpd\u001B[49m\u001B[43m.\u001B[49m\u001B[43mread_csv\u001B[49m\u001B[43m(\u001B[49m\u001B[43mfirst_csv\u001B[49m\u001B[43m,\u001B[49m\u001B[43m \u001B[49m\u001B[43mencoding_errors\u001B[49m\u001B[43m=\u001B[49m\u001B[33;43m'\u001B[39;49m\u001B[33;43mreplace\u001B[39;49m\u001B[33;43m'\u001B[39;49m\u001B[43m)\u001B[49m\n\u001B[32m      5\u001B[39m first_file.columns\n",
      "\u001B[36mFile \u001B[39m\u001B[32m~/miniconda3/envs/ppp_lending_analysis/lib/python3.11/site-packages/pandas/io/parsers/readers.py:1026\u001B[39m, in \u001B[36mread_csv\u001B[39m\u001B[34m(filepath_or_buffer, sep, delimiter, header, names, index_col, usecols, dtype, engine, converters, true_values, false_values, skipinitialspace, skiprows, skipfooter, nrows, na_values, keep_default_na, na_filter, verbose, skip_blank_lines, parse_dates, infer_datetime_format, keep_date_col, date_parser, date_format, dayfirst, cache_dates, iterator, chunksize, compression, thousands, decimal, lineterminator, quotechar, quoting, doublequote, escapechar, comment, encoding, encoding_errors, dialect, on_bad_lines, delim_whitespace, low_memory, memory_map, float_precision, storage_options, dtype_backend)\u001B[39m\n\u001B[32m   1013\u001B[39m kwds_defaults = _refine_defaults_read(\n\u001B[32m   1014\u001B[39m     dialect,\n\u001B[32m   1015\u001B[39m     delimiter,\n\u001B[32m   (...)\u001B[39m\u001B[32m   1022\u001B[39m     dtype_backend=dtype_backend,\n\u001B[32m   1023\u001B[39m )\n\u001B[32m   1024\u001B[39m kwds.update(kwds_defaults)\n\u001B[32m-> \u001B[39m\u001B[32m1026\u001B[39m \u001B[38;5;28;01mreturn\u001B[39;00m \u001B[43m_read\u001B[49m\u001B[43m(\u001B[49m\u001B[43mfilepath_or_buffer\u001B[49m\u001B[43m,\u001B[49m\u001B[43m \u001B[49m\u001B[43mkwds\u001B[49m\u001B[43m)\u001B[49m\n",
      "\u001B[36mFile \u001B[39m\u001B[32m~/miniconda3/envs/ppp_lending_analysis/lib/python3.11/site-packages/pandas/io/parsers/readers.py:620\u001B[39m, in \u001B[36m_read\u001B[39m\u001B[34m(filepath_or_buffer, kwds)\u001B[39m\n\u001B[32m    617\u001B[39m _validate_names(kwds.get(\u001B[33m\"\u001B[39m\u001B[33mnames\u001B[39m\u001B[33m\"\u001B[39m, \u001B[38;5;28;01mNone\u001B[39;00m))\n\u001B[32m    619\u001B[39m \u001B[38;5;66;03m# Create the parser.\u001B[39;00m\n\u001B[32m--> \u001B[39m\u001B[32m620\u001B[39m parser = \u001B[43mTextFileReader\u001B[49m\u001B[43m(\u001B[49m\u001B[43mfilepath_or_buffer\u001B[49m\u001B[43m,\u001B[49m\u001B[43m \u001B[49m\u001B[43m*\u001B[49m\u001B[43m*\u001B[49m\u001B[43mkwds\u001B[49m\u001B[43m)\u001B[49m\n\u001B[32m    622\u001B[39m \u001B[38;5;28;01mif\u001B[39;00m chunksize \u001B[38;5;129;01mor\u001B[39;00m iterator:\n\u001B[32m    623\u001B[39m     \u001B[38;5;28;01mreturn\u001B[39;00m parser\n",
      "\u001B[36mFile \u001B[39m\u001B[32m~/miniconda3/envs/ppp_lending_analysis/lib/python3.11/site-packages/pandas/io/parsers/readers.py:1620\u001B[39m, in \u001B[36mTextFileReader.__init__\u001B[39m\u001B[34m(self, f, engine, **kwds)\u001B[39m\n\u001B[32m   1617\u001B[39m     \u001B[38;5;28mself\u001B[39m.options[\u001B[33m\"\u001B[39m\u001B[33mhas_index_names\u001B[39m\u001B[33m\"\u001B[39m] = kwds[\u001B[33m\"\u001B[39m\u001B[33mhas_index_names\u001B[39m\u001B[33m\"\u001B[39m]\n\u001B[32m   1619\u001B[39m \u001B[38;5;28mself\u001B[39m.handles: IOHandles | \u001B[38;5;28;01mNone\u001B[39;00m = \u001B[38;5;28;01mNone\u001B[39;00m\n\u001B[32m-> \u001B[39m\u001B[32m1620\u001B[39m \u001B[38;5;28mself\u001B[39m._engine = \u001B[38;5;28;43mself\u001B[39;49m\u001B[43m.\u001B[49m\u001B[43m_make_engine\u001B[49m\u001B[43m(\u001B[49m\u001B[43mf\u001B[49m\u001B[43m,\u001B[49m\u001B[43m \u001B[49m\u001B[38;5;28;43mself\u001B[39;49m\u001B[43m.\u001B[49m\u001B[43mengine\u001B[49m\u001B[43m)\u001B[49m\n",
      "\u001B[36mFile \u001B[39m\u001B[32m~/miniconda3/envs/ppp_lending_analysis/lib/python3.11/site-packages/pandas/io/parsers/readers.py:1880\u001B[39m, in \u001B[36mTextFileReader._make_engine\u001B[39m\u001B[34m(self, f, engine)\u001B[39m\n\u001B[32m   1878\u001B[39m     \u001B[38;5;28;01mif\u001B[39;00m \u001B[33m\"\u001B[39m\u001B[33mb\u001B[39m\u001B[33m\"\u001B[39m \u001B[38;5;129;01mnot\u001B[39;00m \u001B[38;5;129;01min\u001B[39;00m mode:\n\u001B[32m   1879\u001B[39m         mode += \u001B[33m\"\u001B[39m\u001B[33mb\u001B[39m\u001B[33m\"\u001B[39m\n\u001B[32m-> \u001B[39m\u001B[32m1880\u001B[39m \u001B[38;5;28mself\u001B[39m.handles = \u001B[43mget_handle\u001B[49m\u001B[43m(\u001B[49m\n\u001B[32m   1881\u001B[39m \u001B[43m    \u001B[49m\u001B[43mf\u001B[49m\u001B[43m,\u001B[49m\n\u001B[32m   1882\u001B[39m \u001B[43m    \u001B[49m\u001B[43mmode\u001B[49m\u001B[43m,\u001B[49m\n\u001B[32m   1883\u001B[39m \u001B[43m    \u001B[49m\u001B[43mencoding\u001B[49m\u001B[43m=\u001B[49m\u001B[38;5;28;43mself\u001B[39;49m\u001B[43m.\u001B[49m\u001B[43moptions\u001B[49m\u001B[43m.\u001B[49m\u001B[43mget\u001B[49m\u001B[43m(\u001B[49m\u001B[33;43m\"\u001B[39;49m\u001B[33;43mencoding\u001B[39;49m\u001B[33;43m\"\u001B[39;49m\u001B[43m,\u001B[49m\u001B[43m \u001B[49m\u001B[38;5;28;43;01mNone\u001B[39;49;00m\u001B[43m)\u001B[49m\u001B[43m,\u001B[49m\n\u001B[32m   1884\u001B[39m \u001B[43m    \u001B[49m\u001B[43mcompression\u001B[49m\u001B[43m=\u001B[49m\u001B[38;5;28;43mself\u001B[39;49m\u001B[43m.\u001B[49m\u001B[43moptions\u001B[49m\u001B[43m.\u001B[49m\u001B[43mget\u001B[49m\u001B[43m(\u001B[49m\u001B[33;43m\"\u001B[39;49m\u001B[33;43mcompression\u001B[39;49m\u001B[33;43m\"\u001B[39;49m\u001B[43m,\u001B[49m\u001B[43m \u001B[49m\u001B[38;5;28;43;01mNone\u001B[39;49;00m\u001B[43m)\u001B[49m\u001B[43m,\u001B[49m\n\u001B[32m   1885\u001B[39m \u001B[43m    \u001B[49m\u001B[43mmemory_map\u001B[49m\u001B[43m=\u001B[49m\u001B[38;5;28;43mself\u001B[39;49m\u001B[43m.\u001B[49m\u001B[43moptions\u001B[49m\u001B[43m.\u001B[49m\u001B[43mget\u001B[49m\u001B[43m(\u001B[49m\u001B[33;43m\"\u001B[39;49m\u001B[33;43mmemory_map\u001B[39;49m\u001B[33;43m\"\u001B[39;49m\u001B[43m,\u001B[49m\u001B[43m \u001B[49m\u001B[38;5;28;43;01mFalse\u001B[39;49;00m\u001B[43m)\u001B[49m\u001B[43m,\u001B[49m\n\u001B[32m   1886\u001B[39m \u001B[43m    \u001B[49m\u001B[43mis_text\u001B[49m\u001B[43m=\u001B[49m\u001B[43mis_text\u001B[49m\u001B[43m,\u001B[49m\n\u001B[32m   1887\u001B[39m \u001B[43m    \u001B[49m\u001B[43merrors\u001B[49m\u001B[43m=\u001B[49m\u001B[38;5;28;43mself\u001B[39;49m\u001B[43m.\u001B[49m\u001B[43moptions\u001B[49m\u001B[43m.\u001B[49m\u001B[43mget\u001B[49m\u001B[43m(\u001B[49m\u001B[33;43m\"\u001B[39;49m\u001B[33;43mencoding_errors\u001B[39;49m\u001B[33;43m\"\u001B[39;49m\u001B[43m,\u001B[49m\u001B[43m \u001B[49m\u001B[33;43m\"\u001B[39;49m\u001B[33;43mstrict\u001B[39;49m\u001B[33;43m\"\u001B[39;49m\u001B[43m)\u001B[49m\u001B[43m,\u001B[49m\n\u001B[32m   1888\u001B[39m \u001B[43m    \u001B[49m\u001B[43mstorage_options\u001B[49m\u001B[43m=\u001B[49m\u001B[38;5;28;43mself\u001B[39;49m\u001B[43m.\u001B[49m\u001B[43moptions\u001B[49m\u001B[43m.\u001B[49m\u001B[43mget\u001B[49m\u001B[43m(\u001B[49m\u001B[33;43m\"\u001B[39;49m\u001B[33;43mstorage_options\u001B[39;49m\u001B[33;43m\"\u001B[39;49m\u001B[43m,\u001B[49m\u001B[43m \u001B[49m\u001B[38;5;28;43;01mNone\u001B[39;49;00m\u001B[43m)\u001B[49m\u001B[43m,\u001B[49m\n\u001B[32m   1889\u001B[39m \u001B[43m\u001B[49m\u001B[43m)\u001B[49m\n\u001B[32m   1890\u001B[39m \u001B[38;5;28;01massert\u001B[39;00m \u001B[38;5;28mself\u001B[39m.handles \u001B[38;5;129;01mis\u001B[39;00m \u001B[38;5;129;01mnot\u001B[39;00m \u001B[38;5;28;01mNone\u001B[39;00m\n\u001B[32m   1891\u001B[39m f = \u001B[38;5;28mself\u001B[39m.handles.handle\n",
      "\u001B[36mFile \u001B[39m\u001B[32m~/miniconda3/envs/ppp_lending_analysis/lib/python3.11/site-packages/pandas/io/common.py:728\u001B[39m, in \u001B[36mget_handle\u001B[39m\u001B[34m(path_or_buf, mode, encoding, compression, memory_map, is_text, errors, storage_options)\u001B[39m\n\u001B[32m    725\u001B[39m     codecs.lookup_error(errors)\n\u001B[32m    727\u001B[39m \u001B[38;5;66;03m# open URLs\u001B[39;00m\n\u001B[32m--> \u001B[39m\u001B[32m728\u001B[39m ioargs = \u001B[43m_get_filepath_or_buffer\u001B[49m\u001B[43m(\u001B[49m\n\u001B[32m    729\u001B[39m \u001B[43m    \u001B[49m\u001B[43mpath_or_buf\u001B[49m\u001B[43m,\u001B[49m\n\u001B[32m    730\u001B[39m \u001B[43m    \u001B[49m\u001B[43mencoding\u001B[49m\u001B[43m=\u001B[49m\u001B[43mencoding\u001B[49m\u001B[43m,\u001B[49m\n\u001B[32m    731\u001B[39m \u001B[43m    \u001B[49m\u001B[43mcompression\u001B[49m\u001B[43m=\u001B[49m\u001B[43mcompression\u001B[49m\u001B[43m,\u001B[49m\n\u001B[32m    732\u001B[39m \u001B[43m    \u001B[49m\u001B[43mmode\u001B[49m\u001B[43m=\u001B[49m\u001B[43mmode\u001B[49m\u001B[43m,\u001B[49m\n\u001B[32m    733\u001B[39m \u001B[43m    \u001B[49m\u001B[43mstorage_options\u001B[49m\u001B[43m=\u001B[49m\u001B[43mstorage_options\u001B[49m\u001B[43m,\u001B[49m\n\u001B[32m    734\u001B[39m \u001B[43m\u001B[49m\u001B[43m)\u001B[49m\n\u001B[32m    736\u001B[39m handle = ioargs.filepath_or_buffer\n\u001B[32m    737\u001B[39m handles: \u001B[38;5;28mlist\u001B[39m[BaseBuffer]\n",
      "\u001B[36mFile \u001B[39m\u001B[32m~/miniconda3/envs/ppp_lending_analysis/lib/python3.11/site-packages/pandas/io/common.py:389\u001B[39m, in \u001B[36m_get_filepath_or_buffer\u001B[39m\u001B[34m(filepath_or_buffer, encoding, compression, mode, storage_options)\u001B[39m\n\u001B[32m    386\u001B[39m         \u001B[38;5;28;01mif\u001B[39;00m content_encoding == \u001B[33m\"\u001B[39m\u001B[33mgzip\u001B[39m\u001B[33m\"\u001B[39m:\n\u001B[32m    387\u001B[39m             \u001B[38;5;66;03m# Override compression based on Content-Encoding header\u001B[39;00m\n\u001B[32m    388\u001B[39m             compression = {\u001B[33m\"\u001B[39m\u001B[33mmethod\u001B[39m\u001B[33m\"\u001B[39m: \u001B[33m\"\u001B[39m\u001B[33mgzip\u001B[39m\u001B[33m\"\u001B[39m}\n\u001B[32m--> \u001B[39m\u001B[32m389\u001B[39m         reader = BytesIO(\u001B[43mreq\u001B[49m\u001B[43m.\u001B[49m\u001B[43mread\u001B[49m\u001B[43m(\u001B[49m\u001B[43m)\u001B[49m)\n\u001B[32m    390\u001B[39m     \u001B[38;5;28;01mreturn\u001B[39;00m IOArgs(\n\u001B[32m    391\u001B[39m         filepath_or_buffer=reader,\n\u001B[32m    392\u001B[39m         encoding=encoding,\n\u001B[32m   (...)\u001B[39m\u001B[32m    395\u001B[39m         mode=fsspec_mode,\n\u001B[32m    396\u001B[39m     )\n\u001B[32m    398\u001B[39m \u001B[38;5;28;01mif\u001B[39;00m is_fsspec_url(filepath_or_buffer):\n",
      "\u001B[36mFile \u001B[39m\u001B[32m~/miniconda3/envs/ppp_lending_analysis/lib/python3.11/http/client.py:489\u001B[39m, in \u001B[36mHTTPResponse.read\u001B[39m\u001B[34m(self, amt)\u001B[39m\n\u001B[32m    487\u001B[39m \u001B[38;5;28;01melse\u001B[39;00m:\n\u001B[32m    488\u001B[39m     \u001B[38;5;28;01mtry\u001B[39;00m:\n\u001B[32m--> \u001B[39m\u001B[32m489\u001B[39m         s = \u001B[38;5;28;43mself\u001B[39;49m\u001B[43m.\u001B[49m\u001B[43m_safe_read\u001B[49m\u001B[43m(\u001B[49m\u001B[38;5;28;43mself\u001B[39;49m\u001B[43m.\u001B[49m\u001B[43mlength\u001B[49m\u001B[43m)\u001B[49m\n\u001B[32m    490\u001B[39m     \u001B[38;5;28;01mexcept\u001B[39;00m IncompleteRead:\n\u001B[32m    491\u001B[39m         \u001B[38;5;28mself\u001B[39m._close_conn()\n",
      "\u001B[36mFile \u001B[39m\u001B[32m~/miniconda3/envs/ppp_lending_analysis/lib/python3.11/http/client.py:638\u001B[39m, in \u001B[36mHTTPResponse._safe_read\u001B[39m\u001B[34m(self, amt)\u001B[39m\n\u001B[32m    631\u001B[39m \u001B[38;5;28;01mdef\u001B[39;00m\u001B[38;5;250m \u001B[39m\u001B[34m_safe_read\u001B[39m(\u001B[38;5;28mself\u001B[39m, amt):\n\u001B[32m    632\u001B[39m \u001B[38;5;250m    \u001B[39m\u001B[33;03m\"\"\"Read the number of bytes requested.\u001B[39;00m\n\u001B[32m    633\u001B[39m \n\u001B[32m    634\u001B[39m \u001B[33;03m    This function should be used when <amt> bytes \"should\" be present for\u001B[39;00m\n\u001B[32m    635\u001B[39m \u001B[33;03m    reading. If the bytes are truly not available (due to EOF), then the\u001B[39;00m\n\u001B[32m    636\u001B[39m \u001B[33;03m    IncompleteRead exception can be used to detect the problem.\u001B[39;00m\n\u001B[32m    637\u001B[39m \u001B[33;03m    \"\"\"\u001B[39;00m\n\u001B[32m--> \u001B[39m\u001B[32m638\u001B[39m     data = \u001B[38;5;28;43mself\u001B[39;49m\u001B[43m.\u001B[49m\u001B[43mfp\u001B[49m\u001B[43m.\u001B[49m\u001B[43mread\u001B[49m\u001B[43m(\u001B[49m\u001B[43mamt\u001B[49m\u001B[43m)\u001B[49m\n\u001B[32m    639\u001B[39m     \u001B[38;5;28;01mif\u001B[39;00m \u001B[38;5;28mlen\u001B[39m(data) < amt:\n\u001B[32m    640\u001B[39m         \u001B[38;5;28;01mraise\u001B[39;00m IncompleteRead(data, amt-\u001B[38;5;28mlen\u001B[39m(data))\n",
      "\u001B[36mFile \u001B[39m\u001B[32m~/miniconda3/envs/ppp_lending_analysis/lib/python3.11/socket.py:718\u001B[39m, in \u001B[36mSocketIO.readinto\u001B[39m\u001B[34m(self, b)\u001B[39m\n\u001B[32m    716\u001B[39m \u001B[38;5;28;01mwhile\u001B[39;00m \u001B[38;5;28;01mTrue\u001B[39;00m:\n\u001B[32m    717\u001B[39m     \u001B[38;5;28;01mtry\u001B[39;00m:\n\u001B[32m--> \u001B[39m\u001B[32m718\u001B[39m         \u001B[38;5;28;01mreturn\u001B[39;00m \u001B[38;5;28;43mself\u001B[39;49m\u001B[43m.\u001B[49m\u001B[43m_sock\u001B[49m\u001B[43m.\u001B[49m\u001B[43mrecv_into\u001B[49m\u001B[43m(\u001B[49m\u001B[43mb\u001B[49m\u001B[43m)\u001B[49m\n\u001B[32m    719\u001B[39m     \u001B[38;5;28;01mexcept\u001B[39;00m timeout:\n\u001B[32m    720\u001B[39m         \u001B[38;5;28mself\u001B[39m._timeout_occurred = \u001B[38;5;28;01mTrue\u001B[39;00m\n",
      "\u001B[36mFile \u001B[39m\u001B[32m~/miniconda3/envs/ppp_lending_analysis/lib/python3.11/ssl.py:1314\u001B[39m, in \u001B[36mSSLSocket.recv_into\u001B[39m\u001B[34m(self, buffer, nbytes, flags)\u001B[39m\n\u001B[32m   1310\u001B[39m     \u001B[38;5;28;01mif\u001B[39;00m flags != \u001B[32m0\u001B[39m:\n\u001B[32m   1311\u001B[39m         \u001B[38;5;28;01mraise\u001B[39;00m \u001B[38;5;167;01mValueError\u001B[39;00m(\n\u001B[32m   1312\u001B[39m           \u001B[33m\"\u001B[39m\u001B[33mnon-zero flags not allowed in calls to recv_into() on \u001B[39m\u001B[38;5;132;01m%s\u001B[39;00m\u001B[33m\"\u001B[39m %\n\u001B[32m   1313\u001B[39m           \u001B[38;5;28mself\u001B[39m.\u001B[34m__class__\u001B[39m)\n\u001B[32m-> \u001B[39m\u001B[32m1314\u001B[39m     \u001B[38;5;28;01mreturn\u001B[39;00m \u001B[38;5;28;43mself\u001B[39;49m\u001B[43m.\u001B[49m\u001B[43mread\u001B[49m\u001B[43m(\u001B[49m\u001B[43mnbytes\u001B[49m\u001B[43m,\u001B[49m\u001B[43m \u001B[49m\u001B[43mbuffer\u001B[49m\u001B[43m)\u001B[49m\n\u001B[32m   1315\u001B[39m \u001B[38;5;28;01melse\u001B[39;00m:\n\u001B[32m   1316\u001B[39m     \u001B[38;5;28;01mreturn\u001B[39;00m \u001B[38;5;28msuper\u001B[39m().recv_into(buffer, nbytes, flags)\n",
      "\u001B[36mFile \u001B[39m\u001B[32m~/miniconda3/envs/ppp_lending_analysis/lib/python3.11/ssl.py:1166\u001B[39m, in \u001B[36mSSLSocket.read\u001B[39m\u001B[34m(self, len, buffer)\u001B[39m\n\u001B[32m   1164\u001B[39m \u001B[38;5;28;01mtry\u001B[39;00m:\n\u001B[32m   1165\u001B[39m     \u001B[38;5;28;01mif\u001B[39;00m buffer \u001B[38;5;129;01mis\u001B[39;00m \u001B[38;5;129;01mnot\u001B[39;00m \u001B[38;5;28;01mNone\u001B[39;00m:\n\u001B[32m-> \u001B[39m\u001B[32m1166\u001B[39m         \u001B[38;5;28;01mreturn\u001B[39;00m \u001B[38;5;28;43mself\u001B[39;49m\u001B[43m.\u001B[49m\u001B[43m_sslobj\u001B[49m\u001B[43m.\u001B[49m\u001B[43mread\u001B[49m\u001B[43m(\u001B[49m\u001B[38;5;28;43mlen\u001B[39;49m\u001B[43m,\u001B[49m\u001B[43m \u001B[49m\u001B[43mbuffer\u001B[49m\u001B[43m)\u001B[49m\n\u001B[32m   1167\u001B[39m     \u001B[38;5;28;01melse\u001B[39;00m:\n\u001B[32m   1168\u001B[39m         \u001B[38;5;28;01mreturn\u001B[39;00m \u001B[38;5;28mself\u001B[39m._sslobj.read(\u001B[38;5;28mlen\u001B[39m)\n",
      "\u001B[31mKeyboardInterrupt\u001B[39m: "
     ]
    }
   ],
   "execution_count": 4
  },
  {
   "metadata": {
    "ExecuteTime": {
     "end_time": "2025-07-15T19:07:09.148433Z",
     "start_time": "2025-07-15T19:07:03.586822Z"
    }
   },
   "cell_type": "code",
   "source": [
    "from io import StringIO\n",
    "\n",
    "census_file = 'https://www2.census.gov/programs-surveys/popest/datasets/2010-2020/counties/asrh/CC-EST2020-ALLDATA.csv'\n",
    "csv = requests.get(census_file, verify=False).text\n",
    "pd.read_csv(StringIO(csv)).head()"
   ],
   "id": "ca62c36538f623f1",
   "outputs": [
    {
     "name": "stderr",
     "output_type": "stream",
     "text": [
      "/Users/Darren/miniconda3/envs/ppp_lending_analysis/lib/python3.11/site-packages/urllib3/connectionpool.py:1097: InsecureRequestWarning: Unverified HTTPS request is being made to host 'www2.census.gov'. Adding certificate verification is strongly advised. See: https://urllib3.readthedocs.io/en/latest/advanced-usage.html#tls-warnings\n",
      "  warnings.warn(\n",
      "/var/folders/b8/frpyqjx134d8nmnpx1t2ckvc0000gp/T/ipykernel_25435/3241858606.py:5: DtypeWarning: Columns (7,8,9,10,11,12,13,14,15,16,17,18,19,20,21,22,23,24,25,26,27,28,29,30,31,32,33,34,35,36,37,38,39,40,41,42,43,44,45,46,47,48,49,50,51,52,53,54,55,56,57,58,59,60,61,62,63,64,65,66,67,68,69,70,71,72,73,74,75,76,77,78,79) have mixed types. Specify dtype option on import or set low_memory=False.\n",
      "  pd.read_csv(StringIO(csv)).head()\n"
     ]
    },
    {
     "data": {
      "text/plain": [
       "   SUMLEV  STATE  COUNTY   STNAME         CTYNAME  YEAR  AGEGRP TOT_POP  \\\n",
       "0      50      1       1  Alabama  Autauga County     1       0   54571   \n",
       "1      50      1       1  Alabama  Autauga County     1       1    3579   \n",
       "2      50      1       1  Alabama  Autauga County     1       2    3991   \n",
       "3      50      1       1  Alabama  Autauga County     1       3    4290   \n",
       "4      50      1       1  Alabama  Autauga County     1       4    4290   \n",
       "\n",
       "  TOT_MALE TOT_FEMALE  ... HWAC_MALE HWAC_FEMALE HBAC_MALE HBAC_FEMALE  \\\n",
       "0    26569      28002  ...       607         538        57          48   \n",
       "1     1866       1713  ...        77          56         9           5   \n",
       "2     2001       1990  ...        64          66         2           3   \n",
       "3     2171       2119  ...        51          57        13           7   \n",
       "4     2213       2077  ...        48          44         7           5   \n",
       "\n",
       "  HIAC_MALE HIAC_FEMALE HAAC_MALE HAAC_FEMALE HNAC_MALE HNAC_FEMALE  \n",
       "0        26          32         9          11        19          10  \n",
       "1         4           1         0           0         2           1  \n",
       "2         2           7         2           3         2           0  \n",
       "3         5           5         2           1         1           1  \n",
       "4         0           2         2           1         3           1  \n",
       "\n",
       "[5 rows x 80 columns]"
      ],
      "text/html": [
       "<div>\n",
       "<style scoped>\n",
       "    .dataframe tbody tr th:only-of-type {\n",
       "        vertical-align: middle;\n",
       "    }\n",
       "\n",
       "    .dataframe tbody tr th {\n",
       "        vertical-align: top;\n",
       "    }\n",
       "\n",
       "    .dataframe thead th {\n",
       "        text-align: right;\n",
       "    }\n",
       "</style>\n",
       "<table border=\"1\" class=\"dataframe\">\n",
       "  <thead>\n",
       "    <tr style=\"text-align: right;\">\n",
       "      <th></th>\n",
       "      <th>SUMLEV</th>\n",
       "      <th>STATE</th>\n",
       "      <th>COUNTY</th>\n",
       "      <th>STNAME</th>\n",
       "      <th>CTYNAME</th>\n",
       "      <th>YEAR</th>\n",
       "      <th>AGEGRP</th>\n",
       "      <th>TOT_POP</th>\n",
       "      <th>TOT_MALE</th>\n",
       "      <th>TOT_FEMALE</th>\n",
       "      <th>...</th>\n",
       "      <th>HWAC_MALE</th>\n",
       "      <th>HWAC_FEMALE</th>\n",
       "      <th>HBAC_MALE</th>\n",
       "      <th>HBAC_FEMALE</th>\n",
       "      <th>HIAC_MALE</th>\n",
       "      <th>HIAC_FEMALE</th>\n",
       "      <th>HAAC_MALE</th>\n",
       "      <th>HAAC_FEMALE</th>\n",
       "      <th>HNAC_MALE</th>\n",
       "      <th>HNAC_FEMALE</th>\n",
       "    </tr>\n",
       "  </thead>\n",
       "  <tbody>\n",
       "    <tr>\n",
       "      <th>0</th>\n",
       "      <td>50</td>\n",
       "      <td>1</td>\n",
       "      <td>1</td>\n",
       "      <td>Alabama</td>\n",
       "      <td>Autauga County</td>\n",
       "      <td>1</td>\n",
       "      <td>0</td>\n",
       "      <td>54571</td>\n",
       "      <td>26569</td>\n",
       "      <td>28002</td>\n",
       "      <td>...</td>\n",
       "      <td>607</td>\n",
       "      <td>538</td>\n",
       "      <td>57</td>\n",
       "      <td>48</td>\n",
       "      <td>26</td>\n",
       "      <td>32</td>\n",
       "      <td>9</td>\n",
       "      <td>11</td>\n",
       "      <td>19</td>\n",
       "      <td>10</td>\n",
       "    </tr>\n",
       "    <tr>\n",
       "      <th>1</th>\n",
       "      <td>50</td>\n",
       "      <td>1</td>\n",
       "      <td>1</td>\n",
       "      <td>Alabama</td>\n",
       "      <td>Autauga County</td>\n",
       "      <td>1</td>\n",
       "      <td>1</td>\n",
       "      <td>3579</td>\n",
       "      <td>1866</td>\n",
       "      <td>1713</td>\n",
       "      <td>...</td>\n",
       "      <td>77</td>\n",
       "      <td>56</td>\n",
       "      <td>9</td>\n",
       "      <td>5</td>\n",
       "      <td>4</td>\n",
       "      <td>1</td>\n",
       "      <td>0</td>\n",
       "      <td>0</td>\n",
       "      <td>2</td>\n",
       "      <td>1</td>\n",
       "    </tr>\n",
       "    <tr>\n",
       "      <th>2</th>\n",
       "      <td>50</td>\n",
       "      <td>1</td>\n",
       "      <td>1</td>\n",
       "      <td>Alabama</td>\n",
       "      <td>Autauga County</td>\n",
       "      <td>1</td>\n",
       "      <td>2</td>\n",
       "      <td>3991</td>\n",
       "      <td>2001</td>\n",
       "      <td>1990</td>\n",
       "      <td>...</td>\n",
       "      <td>64</td>\n",
       "      <td>66</td>\n",
       "      <td>2</td>\n",
       "      <td>3</td>\n",
       "      <td>2</td>\n",
       "      <td>7</td>\n",
       "      <td>2</td>\n",
       "      <td>3</td>\n",
       "      <td>2</td>\n",
       "      <td>0</td>\n",
       "    </tr>\n",
       "    <tr>\n",
       "      <th>3</th>\n",
       "      <td>50</td>\n",
       "      <td>1</td>\n",
       "      <td>1</td>\n",
       "      <td>Alabama</td>\n",
       "      <td>Autauga County</td>\n",
       "      <td>1</td>\n",
       "      <td>3</td>\n",
       "      <td>4290</td>\n",
       "      <td>2171</td>\n",
       "      <td>2119</td>\n",
       "      <td>...</td>\n",
       "      <td>51</td>\n",
       "      <td>57</td>\n",
       "      <td>13</td>\n",
       "      <td>7</td>\n",
       "      <td>5</td>\n",
       "      <td>5</td>\n",
       "      <td>2</td>\n",
       "      <td>1</td>\n",
       "      <td>1</td>\n",
       "      <td>1</td>\n",
       "    </tr>\n",
       "    <tr>\n",
       "      <th>4</th>\n",
       "      <td>50</td>\n",
       "      <td>1</td>\n",
       "      <td>1</td>\n",
       "      <td>Alabama</td>\n",
       "      <td>Autauga County</td>\n",
       "      <td>1</td>\n",
       "      <td>4</td>\n",
       "      <td>4290</td>\n",
       "      <td>2213</td>\n",
       "      <td>2077</td>\n",
       "      <td>...</td>\n",
       "      <td>48</td>\n",
       "      <td>44</td>\n",
       "      <td>7</td>\n",
       "      <td>5</td>\n",
       "      <td>0</td>\n",
       "      <td>2</td>\n",
       "      <td>2</td>\n",
       "      <td>1</td>\n",
       "      <td>3</td>\n",
       "      <td>1</td>\n",
       "    </tr>\n",
       "  </tbody>\n",
       "</table>\n",
       "<p>5 rows × 80 columns</p>\n",
       "</div>"
      ]
     },
     "execution_count": 9,
     "metadata": {},
     "output_type": "execute_result"
    }
   ],
   "execution_count": 9
  },
  {
   "metadata": {
    "ExecuteTime": {
     "end_time": "2025-07-15T19:20:33.617306Z",
     "start_time": "2025-07-15T19:20:33.612352Z"
    }
   },
   "cell_type": "code",
   "source": [
    "from pathlib import Path\n",
    "Path(census_file).name"
   ],
   "id": "bac9a01c4ab22454",
   "outputs": [
    {
     "data": {
      "text/plain": [
       "'CC-EST2020-ALLDATA.csv'"
      ]
     },
     "execution_count": 11,
     "metadata": {},
     "output_type": "execute_result"
    }
   ],
   "execution_count": 11
  },
  {
   "metadata": {
    "ExecuteTime": {
     "end_time": "2025-07-15T20:13:35.101931Z",
     "start_time": "2025-07-15T20:13:34.955799Z"
    }
   },
   "cell_type": "code",
   "source": [
    "xwalk_path = 'https://www2.census.gov/geo/docs/reference/state.txt'\n",
    "resp = requests.get(xwalk_path, verify=False)\n",
    "pd.read_csv(StringIO(resp.text), sep='|').head()"
   ],
   "id": "cd55e75287a10463",
   "outputs": [
    {
     "name": "stderr",
     "output_type": "stream",
     "text": [
      "/Users/Darren/miniconda3/envs/ppp_lending_analysis/lib/python3.11/site-packages/urllib3/connectionpool.py:1097: InsecureRequestWarning: Unverified HTTPS request is being made to host 'www2.census.gov'. Adding certificate verification is strongly advised. See: https://urllib3.readthedocs.io/en/latest/advanced-usage.html#tls-warnings\n",
      "  warnings.warn(\n"
     ]
    },
    {
     "data": {
      "text/plain": [
       "   STATE STUSAB  STATE_NAME  STATENS\n",
       "0      1     AL     Alabama  1779775\n",
       "1      2     AK      Alaska  1785533\n",
       "2      4     AZ     Arizona  1779777\n",
       "3      5     AR    Arkansas    68085\n",
       "4      6     CA  California  1779778"
      ],
      "text/html": [
       "<div>\n",
       "<style scoped>\n",
       "    .dataframe tbody tr th:only-of-type {\n",
       "        vertical-align: middle;\n",
       "    }\n",
       "\n",
       "    .dataframe tbody tr th {\n",
       "        vertical-align: top;\n",
       "    }\n",
       "\n",
       "    .dataframe thead th {\n",
       "        text-align: right;\n",
       "    }\n",
       "</style>\n",
       "<table border=\"1\" class=\"dataframe\">\n",
       "  <thead>\n",
       "    <tr style=\"text-align: right;\">\n",
       "      <th></th>\n",
       "      <th>STATE</th>\n",
       "      <th>STUSAB</th>\n",
       "      <th>STATE_NAME</th>\n",
       "      <th>STATENS</th>\n",
       "    </tr>\n",
       "  </thead>\n",
       "  <tbody>\n",
       "    <tr>\n",
       "      <th>0</th>\n",
       "      <td>1</td>\n",
       "      <td>AL</td>\n",
       "      <td>Alabama</td>\n",
       "      <td>1779775</td>\n",
       "    </tr>\n",
       "    <tr>\n",
       "      <th>1</th>\n",
       "      <td>2</td>\n",
       "      <td>AK</td>\n",
       "      <td>Alaska</td>\n",
       "      <td>1785533</td>\n",
       "    </tr>\n",
       "    <tr>\n",
       "      <th>2</th>\n",
       "      <td>4</td>\n",
       "      <td>AZ</td>\n",
       "      <td>Arizona</td>\n",
       "      <td>1779777</td>\n",
       "    </tr>\n",
       "    <tr>\n",
       "      <th>3</th>\n",
       "      <td>5</td>\n",
       "      <td>AR</td>\n",
       "      <td>Arkansas</td>\n",
       "      <td>68085</td>\n",
       "    </tr>\n",
       "    <tr>\n",
       "      <th>4</th>\n",
       "      <td>6</td>\n",
       "      <td>CA</td>\n",
       "      <td>California</td>\n",
       "      <td>1779778</td>\n",
       "    </tr>\n",
       "  </tbody>\n",
       "</table>\n",
       "</div>"
      ]
     },
     "execution_count": 17,
     "metadata": {},
     "output_type": "execute_result"
    }
   ],
   "execution_count": 17
  },
  {
   "metadata": {},
   "cell_type": "markdown",
   "source": "## Investigate county name matches",
   "id": "7ec06d418ae9f548"
  },
  {
   "metadata": {},
   "cell_type": "code",
   "outputs": [],
   "execution_count": null,
   "source": [
    "import duckdb\n",
    "\n",
    "db_path = '../data/ppp_loan_analysis.duckdb'\n",
    "\n",
    "with duckdb.connect(db_path) as db:\n",
    "    query = '''\n",
    "        SELECT DISTINCT\n",
    "            p.project_state,\n",
    "            p.project_county_name\n",
    "        FROM bronze.paycheck_protection_loans p\n",
    "        LEFT JOIN bronze.census_2020_estimates c\n",
    "        p.project_state = c.\n",
    "    '''\n",
    "    db.sql()"
   ],
   "id": "4033dcad9e155448"
  },
  {
   "metadata": {},
   "cell_type": "markdown",
   "source": [
    "## Cleaning result\n",
    "\n",
    "Cleans state and county mismatches with regex reconciliation. Can be built into dbt view for reconciliation. Or use in a bridge table for exact matching across sources. \n"
   ],
   "id": "9fe613347d62607b"
  },
  {
   "metadata": {},
   "cell_type": "code",
   "outputs": [],
   "execution_count": null,
   "source": [
    "query = '''\n",
    "SELECT\n",
    "\tDISTINCT\n",
    "    s.state_name,\n",
    "\tp.project_state,\n",
    "\tp.project_county_name,\n",
    "\tc.ctyname\n",
    "FROM\n",
    "\tbronze.paycheck_protection_loans p\n",
    "LEFT JOIN bronze.state_crosswalk s \n",
    "ON\n",
    "\tp.project_state = s.stusab\n",
    "LEFT JOIN bronze.census_2020_estimates c \n",
    "ON\n",
    "\ts.state_name = c.stname\n",
    "\t\tAND LOWER(\n",
    "\t\t\t\tREGEXP_REPLACE(\n",
    "\t\t\t\t\tREGEXP_REPLACE(p.project_county_name, '^(ST |SAINTE)', 'SAINT', 'i'),\n",
    "\t\t\t\t'[ -]|''', '', 'g')\n",
    "\t\t\t) =\n",
    "\t\tLOWER(\n",
    "\t\t\tREGEXP_REPLACE(\n",
    "\t\t\t\tREGEXP_REPLACE(\n",
    "\t\t\t\t\tREGEXP_REPLACE(c.ctyname, ' (County|Parish|City and Borough|Borough|Municipality|Census Area)', '', 'i'), \n",
    "\t\t\t\t'(St\\. |Ste\\. |^St )', 'SAINT', 'i'),\n",
    "\t\t\t'[ -]|''', '', 'g')\n",
    "\t\t)\n",
    "WHERE\n",
    "\tc.ctyname IS NULL\n",
    "\tAND p.project_county_name IS NOT NULL\n",
    "\tAND p.project_state NOT IN ('PR', 'MP', 'AE', 'VI', 'AS', 'GU')\n",
    "ORDER BY\n",
    "\tp.project_state\n",
    "'''"
   ],
   "id": "b34777fc325cfa33"
  }
 ],
 "metadata": {
  "kernelspec": {
   "display_name": "Python 3",
   "language": "python",
   "name": "python3"
  },
  "language_info": {
   "codemirror_mode": {
    "name": "ipython",
    "version": 2
   },
   "file_extension": ".py",
   "mimetype": "text/x-python",
   "name": "python",
   "nbconvert_exporter": "python",
   "pygments_lexer": "ipython2",
   "version": "2.7.6"
  }
 },
 "nbformat": 4,
 "nbformat_minor": 5
}
